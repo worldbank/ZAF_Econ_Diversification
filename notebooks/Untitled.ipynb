{
 "cells": [
  {
   "cell_type": "code",
   "execution_count": 1,
   "id": "7fee1fde",
   "metadata": {},
   "outputs": [
    {
     "ename": "ImportError",
     "evalue": "DLL load failed while importing _base: The specified procedure could not be found.",
     "output_type": "error",
     "traceback": [
      "\u001b[1;31m---------------------------------------------------------------------------\u001b[0m",
      "\u001b[1;31mImportError\u001b[0m                               Traceback (most recent call last)",
      "Cell \u001b[1;32mIn[1], line 2\u001b[0m\n\u001b[0;32m      1\u001b[0m \u001b[38;5;28;01mimport\u001b[39;00m \u001b[38;5;21;01msys\u001b[39;00m\u001b[38;5;241m,\u001b[39m \u001b[38;5;21;01mos\u001b[39;00m\u001b[38;5;241m,\u001b[39m \u001b[38;5;21;01mimportlib\u001b[39;00m\u001b[38;5;241m,\u001b[39m \u001b[38;5;21;01mrequests\u001b[39;00m\n\u001b[1;32m----> 2\u001b[0m \u001b[38;5;28;01mimport\u001b[39;00m \u001b[38;5;21;01mrasterio\u001b[39;00m\u001b[38;5;241m,\u001b[39m \u001b[38;5;21;01mgeojson\u001b[39;00m\n\u001b[0;32m      4\u001b[0m \u001b[38;5;28;01mimport\u001b[39;00m \u001b[38;5;21;01mpandas\u001b[39;00m \u001b[38;5;28;01mas\u001b[39;00m \u001b[38;5;21;01mpd\u001b[39;00m\n\u001b[0;32m      5\u001b[0m \u001b[38;5;28;01mimport\u001b[39;00m \u001b[38;5;21;01mgeopandas\u001b[39;00m \u001b[38;5;28;01mas\u001b[39;00m \u001b[38;5;21;01mgpd\u001b[39;00m\n",
      "File \u001b[1;32mC:\\WBG\\anaconda3\\envs\\geog\\lib\\site-packages\\rasterio\\__init__.py:9\u001b[0m\n\u001b[0;32m      6\u001b[0m \u001b[38;5;28;01mfrom\u001b[39;00m \u001b[38;5;21;01mlogging\u001b[39;00m \u001b[38;5;28;01mimport\u001b[39;00m NullHandler\n\u001b[0;32m      7\u001b[0m \u001b[38;5;28;01mfrom\u001b[39;00m \u001b[38;5;21;01mpathlib\u001b[39;00m \u001b[38;5;28;01mimport\u001b[39;00m Path\n\u001b[1;32m----> 9\u001b[0m \u001b[38;5;28;01mfrom\u001b[39;00m \u001b[38;5;21;01mrasterio\u001b[39;00m\u001b[38;5;21;01m.\u001b[39;00m\u001b[38;5;21;01m_base\u001b[39;00m \u001b[38;5;28;01mimport\u001b[39;00m gdal_version\n\u001b[0;32m     10\u001b[0m \u001b[38;5;28;01mfrom\u001b[39;00m \u001b[38;5;21;01mrasterio\u001b[39;00m\u001b[38;5;21;01m.\u001b[39;00m\u001b[38;5;21;01mdrivers\u001b[39;00m \u001b[38;5;28;01mimport\u001b[39;00m driver_from_extension, is_blacklisted\n\u001b[0;32m     11\u001b[0m \u001b[38;5;28;01mfrom\u001b[39;00m \u001b[38;5;21;01mrasterio\u001b[39;00m\u001b[38;5;21;01m.\u001b[39;00m\u001b[38;5;21;01mdtypes\u001b[39;00m \u001b[38;5;28;01mimport\u001b[39;00m (\n\u001b[0;32m     12\u001b[0m     bool_,\n\u001b[0;32m     13\u001b[0m     ubyte,\n\u001b[1;32m   (...)\u001b[0m\n\u001b[0;32m     25\u001b[0m     check_dtype,\n\u001b[0;32m     26\u001b[0m )\n",
      "\u001b[1;31mImportError\u001b[0m: DLL load failed while importing _base: The specified procedure could not be found."
     ]
    }
   ],
   "source": [
    "import sys, os, importlib, requests\n",
    "import rasterio, geojson\n",
    "\n",
    "import pandas as pd\n",
    "import geopandas as gpd\n",
    "import numpy as np\n",
    "import skimage.graph as graph\n",
    "\n",
    "from shapely.geometry import box, Point\n",
    "\n",
    "sys.path.insert(0, \"../../gostrocks/src\")\n",
    "\n",
    "import GOSTRocks.dataMisc as dataMisc\n",
    "import GOSTRocks.ntlMisc as ntlMisc\n",
    "import GOSTRocks.ghslMisc as ghslMisc\n",
    "import GOSTRocks.rasterMisc as rMisc\n",
    "import GOSTRocks.mapMisc as mapMisc\n",
    "from GOSTRocks.misc import tPrint\n",
    "\n",
    "sys.path.insert(0, \"../../GOSTNets_Raster/src\")\n",
    "import GOSTNetsRaster.market_access as ma\n",
    "\n",
    "%load_ext autoreload\n",
    "%autoreload 2"
   ]
  },
  {
   "cell_type": "code",
   "execution_count": null,
   "id": "22a7446b",
   "metadata": {},
   "outputs": [],
   "source": [
    "input_data_folder = r\"C:\\WBG\\Work\\ZAF_Econ_Mpu\\Data\"\n",
    "communities_file = os.path.join(input_data_folder, \"MiningCommunities\", \"Communities\", \"SA-coal-communities.shp\")\n",
    "\n",
    "in_communities = gpd.read_file(communities_file)"
   ]
  },
  {
   "cell_type": "code",
   "execution_count": null,
   "id": "8994ece1",
   "metadata": {},
   "outputs": [],
   "source": [
    "mapMisc.static_map_vector(in_communities, \"Type_of_co\")"
   ]
  },
  {
   "cell_type": "code",
   "execution_count": null,
   "id": "b86b7832",
   "metadata": {},
   "outputs": [],
   "source": [
    "in_communities.head()"
   ]
  },
  {
   "cell_type": "code",
   "execution_count": null,
   "id": "70ea17f2",
   "metadata": {},
   "outputs": [],
   "source": [
    "in_communities.to_crs(3857)"
   ]
  },
  {
   "cell_type": "code",
   "execution_count": null,
   "id": "7d1d2b43",
   "metadata": {},
   "outputs": [],
   "source": []
  }
 ],
 "metadata": {
  "kernelspec": {
   "display_name": "Python 3 (ipykernel)",
   "language": "python",
   "name": "python3"
  },
  "language_info": {
   "codemirror_mode": {
    "name": "ipython",
    "version": 3
   },
   "file_extension": ".py",
   "mimetype": "text/x-python",
   "name": "python",
   "nbconvert_exporter": "python",
   "pygments_lexer": "ipython3",
   "version": "3.9.15"
  }
 },
 "nbformat": 4,
 "nbformat_minor": 5
}
